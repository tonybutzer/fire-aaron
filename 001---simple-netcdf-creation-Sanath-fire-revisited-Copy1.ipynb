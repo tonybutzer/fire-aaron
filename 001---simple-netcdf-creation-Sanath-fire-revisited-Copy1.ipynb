{
 "cells": [
  {
   "cell_type": "markdown",
   "id": "optional-allocation",
   "metadata": {},
   "source": [
    "# What about SCALING Factors and offsets - do they matter?"
   ]
  },
  {
   "cell_type": "markdown",
   "id": "former-november",
   "metadata": {},
   "source": [
    "# Lake Isabel\n",
    "\n",
    "- find the geojson\n",
    "- determine the date range\n",
    "- determine the band combinations\n",
    "- find the best fire image\n",
    "- consider doing again with Sentinel or HLS"
   ]
  },
  {
   "cell_type": "markdown",
   "id": "vietnamese-trial",
   "metadata": {},
   "source": [
    "https://www.usgs.gov/core-science-systems/nli/landsat/landsat-normalized-burn-ratio"
   ]
  },
  {
   "cell_type": "markdown",
   "id": "blank-february",
   "metadata": {},
   "source": [
    "![](https://prd-wret.s3.us-west-2.amazonaws.com/assets/palladium/production/s3fs-public/styles/full_width/public/thumbnails/image/SR-NBR.JPG)"
   ]
  },
  {
   "cell_type": "markdown",
   "id": "changed-shopper",
   "metadata": {},
   "source": [
    "https://raw.githubusercontent.com/tonybutzer/notebook/e5bcf7eceaf276329cc7790a453b17600f773161/01-Everything-but-harmony/05-Science-Outreach-Evaporation-Etc/10-Sanath/01-Animation-Exploration/isa.gif"
   ]
  },
  {
   "cell_type": "code",
   "execution_count": null,
   "id": "maritime-republican",
   "metadata": {
    "scrolled": false
   },
   "outputs": [],
   "source": [
    "def display_gif(fn):\n",
    "    from IPython import display\n",
    "    return display.HTML('<img src=\"{}\">'.format(fn))"
   ]
  },
  {
   "cell_type": "code",
   "execution_count": null,
   "id": "undefined-sender",
   "metadata": {
    "scrolled": false
   },
   "outputs": [],
   "source": [
    "gifn = 'https://raw.githubusercontent.com/tonybutzer/notebook/e5bcf7eceaf276329cc7790a453b17600f773161/01-Everything-but-harmony/05-Science-Outreach-Evaporation-Etc/10-Sanath/01-Animation-Exploration/isa.gif'"
   ]
  },
  {
   "cell_type": "markdown",
   "id": "macro-stream",
   "metadata": {},
   "source": [
    "# The below animation \n",
    "\n",
    "- was made for Sanath\n",
    "- using Landsat 8  (Planet/AWS) and lite-stac - open data cube lite software - 2 years ago\n",
    "- to many clouds - and used non-official data from Planet/AWS/USGS - Top-of-atmosphere\n",
    "- required special custom code \n",
    "\n",
    "---\n",
    "\n",
    "## Can we do better now - with cloud filtering etc?\n",
    "\n",
    "### observation 2016-07-08 has a big fire"
   ]
  },
  {
   "cell_type": "code",
   "execution_count": null,
   "id": "european-majority",
   "metadata": {
    "scrolled": false
   },
   "outputs": [],
   "source": [
    "display_gif(gifn)"
   ]
  },
  {
   "cell_type": "code",
   "execution_count": null,
   "id": "comic-mystery",
   "metadata": {
    "scrolled": false
   },
   "outputs": [],
   "source": [
    "#!wget https://raw.githubusercontent.com/tonybutzer/notebook/e5bcf7eceaf276329cc7790a453b17600f773161/01-Everything-but-harmony/05-Science-Outreach-Evaporation-Etc/10-Sanath/01-Animation-Exploration/isabella-lake.geojson"
   ]
  },
  {
   "cell_type": "code",
   "execution_count": null,
   "id": "received-target",
   "metadata": {
    "scrolled": false
   },
   "outputs": [],
   "source": [
    "import sys\n",
    "import os\n",
    "\n",
    "import hvplot.xarray"
   ]
  },
  {
   "cell_type": "code",
   "execution_count": null,
   "id": "dutch-caribbean",
   "metadata": {
    "scrolled": false
   },
   "outputs": [],
   "source": [
    "sys.path.append('./fakelib')\n",
    "from nr_cube import NR\n",
    "# this next line could be hiddent in __init__\n",
    "os.environ[\"AWS_REQUEST_PAYER\"] = \"requester\" "
   ]
  },
  {
   "cell_type": "code",
   "execution_count": null,
   "id": "informative-excerpt",
   "metadata": {
    "scrolled": false
   },
   "outputs": [],
   "source": [
    "nr=NR()"
   ]
  },
  {
   "cell_type": "code",
   "execution_count": null,
   "id": "fleet-signal",
   "metadata": {
    "scrolled": false
   },
   "outputs": [],
   "source": [
    "nr.measurements()"
   ]
  },
  {
   "cell_type": "code",
   "execution_count": null,
   "id": "respiratory-radiation",
   "metadata": {
    "scrolled": false
   },
   "outputs": [],
   "source": [
    "! ls *.geojson"
   ]
  },
  {
   "cell_type": "code",
   "execution_count": null,
   "id": "involved-fossil",
   "metadata": {
    "scrolled": false
   },
   "outputs": [],
   "source": [
    "min_cloud = 0\n",
    "max_cloud = 30\n",
    "\n",
    "date_min=\"2016-06-01\"\n",
    "date_max=\"2016-11-30\"\n",
    "\n",
    "aoi_geojson_file = './isa-big.geojson'"
   ]
  },
  {
   "cell_type": "code",
   "execution_count": null,
   "id": "hispanic-participation",
   "metadata": {},
   "outputs": [],
   "source": [
    "# method to show our AOI"
   ]
  },
  {
   "cell_type": "code",
   "execution_count": null,
   "id": "given-adams",
   "metadata": {
    "scrolled": false
   },
   "outputs": [],
   "source": [
    "nr.sat(aoi_geojson_file)"
   ]
  },
  {
   "cell_type": "code",
   "execution_count": null,
   "id": "integral-postcard",
   "metadata": {
    "scrolled": false
   },
   "outputs": [],
   "source": [
    "my_measures = ['green', 'swir']\n",
    "answer_stac, my_df = nr.search(aoi_geojson_file, date_min, date_max, min_cloud, max_cloud, my_measures, sort_date=True)"
   ]
  },
  {
   "cell_type": "code",
   "execution_count": null,
   "id": "ethical-roman",
   "metadata": {
    "scrolled": false
   },
   "outputs": [],
   "source": [
    "my_df"
   ]
  },
  {
   "cell_type": "code",
   "execution_count": null,
   "id": "infinite-raise",
   "metadata": {
    "scrolled": false
   },
   "outputs": [],
   "source": [
    "# need to add this to the library\n",
    "#import pandas as pd\n",
    "#my_df['datetime'] = pd.to_datetime(my_df['datetime'])"
   ]
  },
  {
   "cell_type": "code",
   "execution_count": null,
   "id": "amino-brick",
   "metadata": {
    "scrolled": false
   },
   "outputs": [],
   "source": [
    "df_pr = my_df.loc[my_df['landsat:wrs_row'] == '035']"
   ]
  },
  {
   "cell_type": "code",
   "execution_count": null,
   "id": "unavailable-superintendent",
   "metadata": {
    "scrolled": false
   },
   "outputs": [],
   "source": [
    "df_pr = df_pr.loc[df_pr['landsat:wrs_path'] == '041']"
   ]
  },
  {
   "cell_type": "code",
   "execution_count": null,
   "id": "ranging-century",
   "metadata": {
    "scrolled": false
   },
   "outputs": [],
   "source": [
    "#df_pr = df_pr[df_pr['red'].notna()]"
   ]
  },
  {
   "cell_type": "code",
   "execution_count": null,
   "id": "downtown-image",
   "metadata": {
    "scrolled": false
   },
   "outputs": [],
   "source": [
    "df_pr"
   ]
  },
  {
   "cell_type": "code",
   "execution_count": null,
   "id": "bronze-northern",
   "metadata": {
    "scrolled": false
   },
   "outputs": [],
   "source": [
    "%%time\n",
    "DS = nr.load(aoi_geojson_file, df_pr)"
   ]
  },
  {
   "cell_type": "code",
   "execution_count": null,
   "id": "french-frequency",
   "metadata": {
    "scrolled": false
   },
   "outputs": [],
   "source": [
    "my_df"
   ]
  },
  {
   "cell_type": "code",
   "execution_count": null,
   "id": "applicable-hamilton",
   "metadata": {
    "scrolled": false
   },
   "outputs": [],
   "source": [
    "DS"
   ]
  },
  {
   "cell_type": "code",
   "execution_count": null,
   "id": "obvious-money",
   "metadata": {
    "scrolled": false
   },
   "outputs": [],
   "source": [
    "DS['red'][0].plot()"
   ]
  },
  {
   "cell_type": "code",
   "execution_count": null,
   "id": "resistant-female",
   "metadata": {
    "scrolled": false
   },
   "outputs": [],
   "source": [
    "DS['red'][0]"
   ]
  },
  {
   "cell_type": "code",
   "execution_count": null,
   "id": "confused-antibody",
   "metadata": {
    "scrolled": false
   },
   "outputs": [],
   "source": [
    "DS['red'][1].plot()"
   ]
  },
  {
   "cell_type": "code",
   "execution_count": null,
   "id": "looking-masters",
   "metadata": {
    "scrolled": false
   },
   "outputs": [],
   "source": [
    "! ls fakelib"
   ]
  },
  {
   "cell_type": "code",
   "execution_count": null,
   "id": "alpine-destination",
   "metadata": {
    "scrolled": false
   },
   "outputs": [],
   "source": [
    "def normalize(array):\n",
    "    \"\"\"Normalizes numpy arrays into scale 0.0 - 1.0\"\"\"\n",
    "    array_min, array_max = array.min(), array.max()\n",
    "    return ((array - array_min)/(array_max - array_min))"
   ]
  },
  {
   "cell_type": "code",
   "execution_count": null,
   "id": "legal-hartford",
   "metadata": {
    "scrolled": false
   },
   "outputs": [],
   "source": [
    "import skimage.exposure as ske\n",
    "\n",
    "def juice(ary):\n",
    "    ary_equalize_corrected = ske.equalize_hist(ary)\n",
    "    return ary_equalize_corrected\n",
    "    "
   ]
  },
  {
   "cell_type": "code",
   "execution_count": null,
   "id": "liable-redhead",
   "metadata": {
    "scrolled": false
   },
   "outputs": [],
   "source": [
    "# FAIL DS['red'][1].values = juice(DS['red'][1].values)"
   ]
  },
  {
   "cell_type": "code",
   "execution_count": null,
   "id": "coral-pendant",
   "metadata": {
    "scrolled": false
   },
   "outputs": [],
   "source": [
    "DS['red'][1].plot()"
   ]
  },
  {
   "cell_type": "code",
   "execution_count": null,
   "id": "integrated-virginia",
   "metadata": {
    "scrolled": false
   },
   "outputs": [],
   "source": [
    "ary = juice(DS['red'][1].values)"
   ]
  },
  {
   "cell_type": "code",
   "execution_count": null,
   "id": "dated-canvas",
   "metadata": {
    "scrolled": false
   },
   "outputs": [],
   "source": [
    "ary"
   ]
  },
  {
   "cell_type": "code",
   "execution_count": null,
   "id": "configured-avenue",
   "metadata": {
    "scrolled": false
   },
   "outputs": [],
   "source": [
    "DS['red'][1].values"
   ]
  },
  {
   "cell_type": "code",
   "execution_count": null,
   "id": "verbal-concept",
   "metadata": {
    "scrolled": false
   },
   "outputs": [],
   "source": [
    "import matplotlib\n",
    "import matplotlib.pyplot as plt\n",
    "plt.plot(ary)\n",
    "plt.show()"
   ]
  },
  {
   "cell_type": "code",
   "execution_count": null,
   "id": "electric-poetry",
   "metadata": {
    "scrolled": false
   },
   "outputs": [],
   "source": [
    "aryb = DS['red'][1].values\n",
    "\n",
    "plt.plot(aryb)\n",
    "plt.show()"
   ]
  },
  {
   "cell_type": "code",
   "execution_count": null,
   "id": "romance-behavior",
   "metadata": {
    "scrolled": false
   },
   "outputs": [],
   "source": [
    "plt.imshow(ary, cmap='hot')\n",
    "plt.show()"
   ]
  },
  {
   "cell_type": "code",
   "execution_count": null,
   "id": "identified-weekly",
   "metadata": {
    "scrolled": false
   },
   "outputs": [],
   "source": [
    "plt.imshow(aryb, cmap='hot')\n",
    "plt.show()"
   ]
  },
  {
   "cell_type": "code",
   "execution_count": null,
   "id": "grand-hunter",
   "metadata": {
    "scrolled": false
   },
   "outputs": [],
   "source": [
    "ds_jul = DS.sel(time='2016-07-08', method='nearest')"
   ]
  },
  {
   "cell_type": "code",
   "execution_count": null,
   "id": "statistical-demonstration",
   "metadata": {
    "scrolled": false
   },
   "outputs": [],
   "source": [
    "ds_jul"
   ]
  },
  {
   "cell_type": "markdown",
   "id": "played-minnesota",
   "metadata": {},
   "source": [
    "|                                       |       | \n",
    "|---------------------------------------|-------| \n",
    "| Band Combinations for Landsat 8       |       | \n",
    "| Composite Name     Bands              |       | \n",
    "| Natural Color                         | 4 3 2 | \n",
    "| False Color (urban)                   | 7 6 4 | \n",
    "| Color Infrared (vegetation)           | 5 4 3 | \n",
    "| Agriculture                           | 6 5 2 | \n",
    "| Healthy Vegetation                    | 5 6 2 | \n",
    "| Land/Water                            | 5 6 4 | \n",
    "| Natural With Atmospheric Removal      | 7 5 3 | \n",
    "| Shortwave Infrared                    | 7 5 4 | \n",
    "| Vegetation Analysis                   | 6 5 4 | \n"
   ]
  },
  {
   "cell_type": "markdown",
   "id": "charged-trade",
   "metadata": {},
   "source": [
    "---\n",
    "---\n",
    "|                                       |       | \n",
    "|---------------------------------------|-------| \n",
    "| Healthy Vegetation                    | 5 6 2 | \n",
    "| Vegetation Analysis                   | 6 5 4 | \n"
   ]
  },
  {
   "cell_type": "code",
   "execution_count": null,
   "id": "polished-escape",
   "metadata": {
    "scrolled": false
   },
   "outputs": [],
   "source": [
    "nr.measurements().T"
   ]
  },
  {
   "cell_type": "code",
   "execution_count": null,
   "id": "rough-basketball",
   "metadata": {
    "scrolled": false
   },
   "outputs": [],
   "source": [
    "import numpy as np\n",
    "import holoviews as hv\n",
    "\n",
    "\n",
    "r = normalize(ds_jul['swir1'].values)\n",
    "g = normalize(ds_jul['nir'].values)\n",
    "b = normalize(ds_jul['blue'].values)\n",
    "\n",
    "my_veggie_rgb = np.dstack([r,g,b])\n",
    "\n",
    "# fail but not sure why hv.RGB(my_veggie_rgb).options(aspect='equal',  frame_width=500)"
   ]
  },
  {
   "cell_type": "code",
   "execution_count": null,
   "id": "superb-april",
   "metadata": {
    "scrolled": false
   },
   "outputs": [],
   "source": [
    "b.mean()"
   ]
  },
  {
   "cell_type": "code",
   "execution_count": null,
   "id": "recent-interaction",
   "metadata": {
    "scrolled": false
   },
   "outputs": [],
   "source": [
    "ds_jul['nir'].plot()"
   ]
  },
  {
   "cell_type": "code",
   "execution_count": null,
   "id": "necessary-victor",
   "metadata": {
    "scrolled": false
   },
   "outputs": [],
   "source": [
    "ds_jul['swir1'].plot()"
   ]
  },
  {
   "cell_type": "code",
   "execution_count": null,
   "id": "complete-hudson",
   "metadata": {
    "scrolled": false
   },
   "outputs": [],
   "source": [
    "ds_jul['blue'].plot()"
   ]
  },
  {
   "cell_type": "code",
   "execution_count": null,
   "id": "military-inside",
   "metadata": {
    "scrolled": false
   },
   "outputs": [],
   "source": [
    "r.shape"
   ]
  },
  {
   "cell_type": "code",
   "execution_count": null,
   "id": "dynamic-sleeve",
   "metadata": {
    "scrolled": false
   },
   "outputs": [],
   "source": [
    "g.shape"
   ]
  },
  {
   "cell_type": "code",
   "execution_count": null,
   "id": "south-bench",
   "metadata": {
    "scrolled": false
   },
   "outputs": [],
   "source": [
    "b.shape"
   ]
  },
  {
   "cell_type": "code",
   "execution_count": null,
   "id": "parliamentary-passage",
   "metadata": {
    "scrolled": false
   },
   "outputs": [],
   "source": [
    "r = normalize(DS['red'].isel(time=(1)).values)\n",
    "g = normalize(DS['green'].isel(time=(1)).values)\n",
    "b = normalize(DS['blue'].isel(time=(1)).values)\n"
   ]
  },
  {
   "cell_type": "code",
   "execution_count": null,
   "id": "rotary-consciousness",
   "metadata": {
    "scrolled": false
   },
   "outputs": [],
   "source": [
    "my_rgb = np.dstack([r,g,b])"
   ]
  },
  {
   "cell_type": "code",
   "execution_count": null,
   "id": "demonstrated-sheffield",
   "metadata": {
    "scrolled": false
   },
   "outputs": [],
   "source": [
    "hv.RGB(my_rgb).options(aspect='equal',  frame_width=500)"
   ]
  },
  {
   "cell_type": "code",
   "execution_count": null,
   "id": "cheap-avenue",
   "metadata": {
    "scrolled": false
   },
   "outputs": [],
   "source": [
    "import skimage\n",
    "rgb_equalize_corrected = skimage.exposure.equalize_hist(my_rgb)"
   ]
  },
  {
   "cell_type": "code",
   "execution_count": null,
   "id": "presidential-contract",
   "metadata": {
    "scrolled": false
   },
   "outputs": [],
   "source": [
    "hv.RGB(rgb_equalize_corrected).options(aspect='equal',  frame_width=500)"
   ]
  },
  {
   "cell_type": "code",
   "execution_count": null,
   "id": "determined-albany",
   "metadata": {
    "scrolled": false
   },
   "outputs": [],
   "source": [
    "r = normalize(DS['swir1'].isel(time=(1)).values)\n",
    "g = normalize(DS['nir'].isel(time=(1)).values)\n",
    "b = normalize(DS['blue'].isel(time=(1)).values)\n"
   ]
  },
  {
   "cell_type": "code",
   "execution_count": null,
   "id": "supported-scanner",
   "metadata": {
    "scrolled": false
   },
   "outputs": [],
   "source": [
    "my_rgb = np.dstack([r,g,b])"
   ]
  },
  {
   "cell_type": "code",
   "execution_count": null,
   "id": "equipped-administrator",
   "metadata": {
    "scrolled": false
   },
   "outputs": [],
   "source": [
    "hv.RGB(my_rgb).options(aspect='equal',  frame_width=500)"
   ]
  },
  {
   "cell_type": "code",
   "execution_count": null,
   "id": "protecting-joining",
   "metadata": {
    "scrolled": false
   },
   "outputs": [],
   "source": [
    "DS.time"
   ]
  },
  {
   "cell_type": "code",
   "execution_count": null,
   "id": "suffering-jonathan",
   "metadata": {
    "scrolled": false
   },
   "outputs": [],
   "source": [
    "r = normalize(DS['swir1'].isel(time=(2)).values)\n",
    "g = normalize(DS['nir'].isel(time=(2)).values)\n",
    "b = normalize(DS['blue'].isel(time=(2)).values)"
   ]
  },
  {
   "cell_type": "code",
   "execution_count": null,
   "id": "comfortable-friend",
   "metadata": {
    "scrolled": false
   },
   "outputs": [],
   "source": [
    "my_rgb = np.dstack([r,g,b])"
   ]
  },
  {
   "cell_type": "code",
   "execution_count": null,
   "id": "aquatic-joshua",
   "metadata": {
    "scrolled": false
   },
   "outputs": [],
   "source": [
    "hv.RGB(my_rgb).options(aspect='equal',  frame_width=500)"
   ]
  },
  {
   "cell_type": "code",
   "execution_count": null,
   "id": "pacific-location",
   "metadata": {
    "scrolled": false
   },
   "outputs": [],
   "source": [
    "ds_u = DS.isel(time=(2))"
   ]
  },
  {
   "cell_type": "code",
   "execution_count": null,
   "id": "alert-sherman",
   "metadata": {
    "scrolled": false
   },
   "outputs": [],
   "source": [
    "ds_u"
   ]
  },
  {
   "cell_type": "code",
   "execution_count": null,
   "id": "finished-instrument",
   "metadata": {
    "scrolled": false
   },
   "outputs": [],
   "source": [
    "r = normalize(DS['swir1'].isel(time=(1)).values)\n",
    "g = normalize(DS['nir'].isel(time=(1)).values)\n",
    "b = normalize(DS['blue'].isel(time=(1)).values)"
   ]
  },
  {
   "cell_type": "code",
   "execution_count": null,
   "id": "lesbian-hazard",
   "metadata": {},
   "outputs": [],
   "source": [
    "DS['blue'].isel(time=(1)).time"
   ]
  },
  {
   "cell_type": "code",
   "execution_count": null,
   "id": "infectious-longer",
   "metadata": {
    "scrolled": false
   },
   "outputs": [],
   "source": [
    "my_rgb = np.dstack([r,g,b])"
   ]
  },
  {
   "cell_type": "code",
   "execution_count": null,
   "id": "damaged-kazakhstan",
   "metadata": {
    "scrolled": false
   },
   "outputs": [],
   "source": [
    "hv.RGB(my_rgb).options(aspect='equal',  frame_width=500)"
   ]
  },
  {
   "cell_type": "markdown",
   "id": "annoying-syndication",
   "metadata": {},
   "source": [
    "https://www.usgs.gov/core-science-systems/nli/landsat/landsat-burned-area?qt-science_support_page_related_con=0#qt-science_support_page_related_con"
   ]
  },
  {
   "cell_type": "markdown",
   "id": "organic-representative",
   "metadata": {},
   "source": [
    "# 5 4 3 - nir,blue, green"
   ]
  },
  {
   "cell_type": "code",
   "execution_count": null,
   "id": "political-discussion",
   "metadata": {
    "scrolled": false
   },
   "outputs": [],
   "source": [
    "r = normalize(DS['nir'].isel(time=(2)).values)\n",
    "g = normalize(DS['blue'].isel(time=(2)).values)\n",
    "b = normalize(DS['green'].isel(time=(2)).values)\n",
    "my_rgb = np.dstack([r,g,b])\n",
    "hv.RGB(my_rgb).options(aspect='equal',  frame_width=500)"
   ]
  },
  {
   "cell_type": "code",
   "execution_count": null,
   "id": "prerequisite-sleep",
   "metadata": {
    "scrolled": false
   },
   "outputs": [],
   "source": [
    "r = normalize(DS['nir'].isel(time=(1)).values)\n",
    "g = normalize(DS['blue'].isel(time=(1)).values)\n",
    "b = normalize(DS['green'].isel(time=(1)).values)\n",
    "my_rgb1 = np.dstack([r,g,b])\n",
    "hv.RGB(my_rgb1).options(aspect='equal',  frame_width=500)"
   ]
  },
  {
   "cell_type": "code",
   "execution_count": null,
   "id": "insured-anger",
   "metadata": {
    "scrolled": false
   },
   "outputs": [],
   "source": [
    "j_rgb = skimage.exposure.equalize_hist(my_rgb)"
   ]
  },
  {
   "cell_type": "code",
   "execution_count": null,
   "id": "sunrise-harrison",
   "metadata": {
    "scrolled": false
   },
   "outputs": [],
   "source": [
    "j_rgb1 = skimage.exposure.equalize_hist(my_rgb1)"
   ]
  },
  {
   "cell_type": "code",
   "execution_count": null,
   "id": "forward-conducting",
   "metadata": {
    "scrolled": false
   },
   "outputs": [],
   "source": [
    "hv.RGB(j_rgb1).options(aspect='equal',  frame_width=500)"
   ]
  },
  {
   "cell_type": "code",
   "execution_count": null,
   "id": "expired-column",
   "metadata": {
    "scrolled": false
   },
   "outputs": [],
   "source": [
    "hv.RGB(j_rgb).options(aspect='equal',  frame_width=500)"
   ]
  },
  {
   "cell_type": "markdown",
   "id": "subject-advantage",
   "metadata": {},
   "source": [
    "![](https://prd-wret.s3.us-west-2.amazonaws.com/assets/palladium/production/s3fs-public/styles/full_width/public/thumbnails/image/BurnedArea2.jpg)"
   ]
  },
  {
   "cell_type": "code",
   "execution_count": null,
   "id": "democratic-radius",
   "metadata": {
    "scrolled": false
   },
   "outputs": [],
   "source": [
    "from nb_animate import nb_animated_timeseries\n",
    "\n",
    "home = os.getenv('HOME')\n",
    "gifn='isabella_animation_swn.gif'\n",
    "nb_animated_timeseries(DS,output_path=gifn,bands = ['swir1', 'nir', 'green'], time_dim='time',  \n",
    "      percentile_stretch=(.2,.85), interval=1200)"
   ]
  },
  {
   "cell_type": "code",
   "execution_count": null,
   "id": "lesbian-rehabilitation",
   "metadata": {
    "scrolled": false
   },
   "outputs": [],
   "source": [
    "gifn"
   ]
  },
  {
   "cell_type": "code",
   "execution_count": null,
   "id": "neural-guitar",
   "metadata": {
    "scrolled": false
   },
   "outputs": [],
   "source": [
    "\n",
    "display_gif(gifn)"
   ]
  },
  {
   "cell_type": "code",
   "execution_count": null,
   "id": "prospective-lewis",
   "metadata": {
    "scrolled": false
   },
   "outputs": [],
   "source": [
    "\n",
    "home = os.getenv('HOME')\n",
    "gifn='isabella_animation_543.gif'\n",
    "nb_animated_timeseries(DS,output_path=gifn,bands = ['nir', 'blue', 'green'], time_dim='time',  \n",
    "      percentile_stretch=(.2,.85), interval=1200)"
   ]
  },
  {
   "cell_type": "code",
   "execution_count": null,
   "id": "upper-section",
   "metadata": {
    "scrolled": false
   },
   "outputs": [],
   "source": [
    "display_gif(gifn)"
   ]
  },
  {
   "cell_type": "code",
   "execution_count": null,
   "id": "ancient-warrior",
   "metadata": {
    "scrolled": false
   },
   "outputs": [],
   "source": [
    "DS"
   ]
  },
  {
   "cell_type": "code",
   "execution_count": null,
   "id": "homeless-summer",
   "metadata": {},
   "outputs": [],
   "source": [
    "from ani_easy import ani_easy\n",
    "ani1 = ani_easy(DS['swir1'], cmap='hot')"
   ]
  },
  {
   "cell_type": "code",
   "execution_count": null,
   "id": "affiliated-scholar",
   "metadata": {},
   "outputs": [],
   "source": [
    "from IPython.display import HTML, display\n",
    "HTML(ani1.to_jshtml())"
   ]
  },
  {
   "cell_type": "code",
   "execution_count": null,
   "id": "appropriate-calendar",
   "metadata": {},
   "outputs": [],
   "source": [
    "da_nbr = (DS['nir'] - DS['swir2']) / (DS['nir'] + DS['swir2'])\n",
    "ds_nbr = da_nbr.to_dataset(name='nbr')"
   ]
  },
  {
   "cell_type": "code",
   "execution_count": null,
   "id": "black-convenience",
   "metadata": {},
   "outputs": [],
   "source": [
    "\n",
    "ani2 = ani_easy(ds_nbr['nbr'], cmap='tab10')"
   ]
  },
  {
   "cell_type": "code",
   "execution_count": null,
   "id": "indian-galaxy",
   "metadata": {},
   "outputs": [],
   "source": [
    "HTML(ani2.to_jshtml())"
   ]
  },
  {
   "cell_type": "code",
   "execution_count": null,
   "id": "recovered-joyce",
   "metadata": {},
   "outputs": [],
   "source": []
  }
 ],
 "metadata": {
  "kernelspec": {
   "display_name": "Python 3",
   "language": "python",
   "name": "python3"
  },
  "language_info": {
   "codemirror_mode": {
    "name": "ipython",
    "version": 3
   },
   "file_extension": ".py",
   "mimetype": "text/x-python",
   "name": "python",
   "nbconvert_exporter": "python",
   "pygments_lexer": "ipython3",
   "version": "3.7.10"
  }
 },
 "nbformat": 4,
 "nbformat_minor": 5
}
